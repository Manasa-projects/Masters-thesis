{
 "cells": [
  {
   "cell_type": "code",
   "execution_count": 1,
   "metadata": {},
   "outputs": [],
   "source": [
    "# import pickle\n",
    "# with open('totalseqfile.pkl', 'rb') as f:\n",
    "#     mynewlist2 = pickle.load(f)"
   ]
  },
  {
   "cell_type": "code",
   "execution_count": 2,
   "metadata": {},
   "outputs": [],
   "source": [
    "# textfile = open(\"inputseqfile.txt\", \"w\")\n",
    "# for element in mynewlist2:\n",
    "#     textfile.write(element + \"\\n\")\n",
    "# textfile.close()"
   ]
  },
  {
   "cell_type": "code",
   "execution_count": 3,
   "metadata": {},
   "outputs": [],
   "source": [
    "file2 = open(r\"inputseqfile.txt\", \"r\")\n",
    "file_lines = file2.read()\n",
    "\n",
    "\n",
    "\n",
    "list_of_lines = file_lines.split(\"\\n\")\n"
   ]
  },
  {
   "cell_type": "code",
   "execution_count": 4,
   "metadata": {},
   "outputs": [],
   "source": [
    "#print(list_of_lines[0])"
   ]
  },
  {
   "cell_type": "code",
   "execution_count": 5,
   "metadata": {},
   "outputs": [],
   "source": [
    "import numpy as np\n",
    "\n"
   ]
  },
  {
   "cell_type": "code",
   "execution_count": 6,
   "metadata": {},
   "outputs": [],
   "source": [
    "seqinfo=list_of_lines"
   ]
  },
  {
   "cell_type": "code",
   "execution_count": 7,
   "metadata": {},
   "outputs": [],
   "source": [
    "temp1=[]\n",
    "for i in range(0,len(seqinfo)):\n",
    "    temp=list(seqinfo[i])\n",
    "    for j in range(0,len(temp)):\n",
    "        \n",
    "        \n",
    "        if temp[j]=='A':\n",
    "            temp[j]='a'\n",
    "            \n",
    "        if temp[j]=='G':\n",
    "            temp[j]='g'\n",
    "            \n",
    "        if temp[j]=='C':\n",
    "            temp[j]='c'\n",
    "            \n",
    "        if temp[j]=='T':\n",
    "            temp[j]='u'\n",
    "        \n",
    "    t1=''.join(temp)\n",
    "    temp1.append(t1)"
   ]
  },
  {
   "cell_type": "code",
   "execution_count": 8,
   "metadata": {},
   "outputs": [],
   "source": [
    "rna2=temp1[0:501]\n",
    "# rna21=temp1[501:1001]\n",
    "# rna22=temp1[1001:1501]\n",
    "# rna23=temp1[1501:2001]\n",
    "#rna21=temp1[501:2001]\n",
    "rna3=temp1[2001:4001]\n",
    "rna4=temp1[4001:6001]\n",
    "rna5=temp1[6001:8001]\n",
    "rnad=rna3+rna4+rna5\n",
    "rna6=temp1[8001:10001]\n",
    "rna7=temp1[10001:len(temp1)]"
   ]
  },
  {
   "cell_type": "code",
   "execution_count": 9,
   "metadata": {},
   "outputs": [],
   "source": [
    "rna51=temp1[6001:6251]\n",
    "rna52=temp1[6251:6501]\n",
    "rna53=temp1[6501:6751]\n",
    "rna54=temp1[6751:7001]\n",
    "rna55=temp1[7001:7251]\n",
    "rna56=temp1[7251:7501]\n",
    "rna57=temp1[7501:7751]\n",
    "rna58=temp1[7751:8001]\n",
    "\n",
    "\n",
    "rna71=temp1[10001:10251]\n",
    "rna72=temp1[10251:10501]\n",
    "rna73=temp1[10501:10751]\n",
    "rna74=temp1[10751:11001]\n",
    "rna75=temp1[11001:11251]\n",
    "rna76=temp1[11251:11501]\n",
    "rna77=temp1[11501:11751]\n",
    "rna78=temp1[11751:len(temp1)-1]"
   ]
  },
  {
   "cell_type": "code",
   "execution_count": 10,
   "metadata": {},
   "outputs": [],
   "source": [
    "#run rna_fold from viennarna package to get secondary structure\n",
    "\n",
    "# import subprocess\n",
    "# from subprocess import Popen, PIPE \n",
    " \n",
    "\n",
    "# ss=[]\n",
    "# for i in range(0,len(rna2)):\n",
    "#     p = subprocess.Popen('/scratch/user/manasa97/RNAfold.exe', stdin=PIPE, stdout=PIPE,shell=False)\n",
    "#     ans = p.communicate(rna2[i].encode())\n",
    "#     ss.append(ans)"
   ]
  },
  {
   "cell_type": "code",
   "execution_count": 11,
   "metadata": {},
   "outputs": [],
   "source": [
    "#convert bytes to string type\n",
    "# ss1=[]\n",
    "# for i in range(0,len(ss)):\n",
    "#     t1=ss[i][0].decode('utf-8')\n",
    "#     ss1.append(t1)"
   ]
  },
  {
   "cell_type": "code",
   "execution_count": 12,
   "metadata": {},
   "outputs": [],
   "source": [
    "# ss1[0]"
   ]
  },
  {
   "cell_type": "code",
   "execution_count": 13,
   "metadata": {},
   "outputs": [
    {
     "ename": "ModuleNotFoundError",
     "evalue": "No module named 'RNA'",
     "output_type": "error",
     "traceback": [
      "\u001b[1;31m---------------------------------------------------------------------------\u001b[0m",
      "\u001b[1;31mModuleNotFoundError\u001b[0m                       Traceback (most recent call last)",
      "\u001b[1;32m<ipython-input-13-ddf28132f419>\u001b[0m in \u001b[0;36m<module>\u001b[1;34m\u001b[0m\n\u001b[1;32m----> 1\u001b[1;33m \u001b[1;32mimport\u001b[0m \u001b[0mRNA\u001b[0m\u001b[1;33m\u001b[0m\u001b[1;33m\u001b[0m\u001b[0m\n\u001b[0m\u001b[0;32m      2\u001b[0m \u001b[0mstruc\u001b[0m\u001b[1;33m=\u001b[0m\u001b[1;33m[\u001b[0m\u001b[1;33m]\u001b[0m\u001b[1;33m\u001b[0m\u001b[1;33m\u001b[0m\u001b[0m\n\u001b[0;32m      3\u001b[0m \u001b[0mener\u001b[0m\u001b[1;33m=\u001b[0m\u001b[1;33m[\u001b[0m\u001b[1;33m]\u001b[0m\u001b[1;33m\u001b[0m\u001b[1;33m\u001b[0m\u001b[0m\n\u001b[0;32m      4\u001b[0m \u001b[1;32mfor\u001b[0m \u001b[0mi\u001b[0m \u001b[1;32min\u001b[0m \u001b[0mrange\u001b[0m\u001b[1;33m(\u001b[0m\u001b[1;36m0\u001b[0m\u001b[1;33m,\u001b[0m\u001b[0mlen\u001b[0m\u001b[1;33m(\u001b[0m\u001b[0mrna7\u001b[0m\u001b[1;33m)\u001b[0m\u001b[1;33m)\u001b[0m\u001b[1;33m:\u001b[0m\u001b[1;33m\u001b[0m\u001b[1;33m\u001b[0m\u001b[0m\n\u001b[0;32m      5\u001b[0m     \u001b[0mstructure\u001b[0m\u001b[1;33m,\u001b[0m \u001b[0menergy\u001b[0m\u001b[1;33m=\u001b[0m \u001b[0mRNA\u001b[0m\u001b[1;33m.\u001b[0m\u001b[0mfold\u001b[0m\u001b[1;33m(\u001b[0m\u001b[0mrna7\u001b[0m\u001b[1;33m[\u001b[0m\u001b[0mi\u001b[0m\u001b[1;33m]\u001b[0m\u001b[1;33m)\u001b[0m\u001b[1;33m\u001b[0m\u001b[1;33m\u001b[0m\u001b[0m\n",
      "\u001b[1;31mModuleNotFoundError\u001b[0m: No module named 'RNA'"
     ]
    }
   ],
   "source": [
    "import RNA\n",
    "struc=[]\n",
    "ener=[]\n",
    "for i in range(0,len(rna78)):\n",
    "    structure, energy= RNA.fold(rna78[i])\n",
    "    struc.append(structure)\n",
    "    ener.append(energy)\n",
    "\n",
    "# textfile = open(\"ss.txt\", \"w\")\n",
    "# for element in q:\n",
    "#     textfile.write(element + \"\\n\")\n",
    "with open('ss78.txt', 'w') as f:\n",
    "    for item in struc:\n",
    "        f.write(\"%s\\n\" % item)\n",
    "with open('mfe78.txt', 'w') as fp:\n",
    "    for item in ener:\n",
    "        fp.write(\"%s\\n\" % item)"
   ]
  },
  {
   "cell_type": "code",
   "execution_count": 55,
   "metadata": {},
   "outputs": [],
   "source": [
    "filemfe1 = open(r\"ss1.txt\", \"r\")\n",
    "file_lines = filemfe1.read()\n",
    "\n",
    "\n",
    "\n",
    "mfe1 = file_lines.split(\"\\n\")"
   ]
  },
  {
   "cell_type": "code",
   "execution_count": 56,
   "metadata": {},
   "outputs": [],
   "source": [
    "filemfe2 = open(r\"ss2.txt\", \"r\")\n",
    "file_lines = filemfe2.read()\n",
    "\n",
    "\n",
    "\n",
    "mfe2 = file_lines.split(\"\\n\")"
   ]
  },
  {
   "cell_type": "code",
   "execution_count": 57,
   "metadata": {},
   "outputs": [],
   "source": [
    "filemfe3 = open(r\"ss3.txt\", \"r\")\n",
    "file_lines = filemfe3.read()\n",
    "\n",
    "\n",
    "\n",
    "mfe3 = file_lines.split(\"\\n\")"
   ]
  },
  {
   "cell_type": "code",
   "execution_count": 58,
   "metadata": {},
   "outputs": [],
   "source": [
    "filemfe4 = open(r\"ss4.txt\", \"r\")\n",
    "file_lines = filemfe4.read()\n",
    "\n",
    "\n",
    "\n",
    "mfe4 = file_lines.split(\"\\n\")"
   ]
  },
  {
   "cell_type": "code",
   "execution_count": 59,
   "metadata": {},
   "outputs": [],
   "source": [
    "filemfe51 = open(r\"ss51.txt\", \"r\")\n",
    "file_lines = filemfe51.read()\n",
    "\n",
    "\n",
    "\n",
    "mfe51 = file_lines.split(\"\\n\")"
   ]
  },
  {
   "cell_type": "code",
   "execution_count": 60,
   "metadata": {},
   "outputs": [],
   "source": [
    "filemfe52 = open(r\"ss52.txt\", \"r\")\n",
    "file_lines = filemfe52.read()\n",
    "\n",
    "\n",
    "\n",
    "mfe52 = file_lines.split(\"\\n\")"
   ]
  },
  {
   "cell_type": "code",
   "execution_count": 61,
   "metadata": {},
   "outputs": [],
   "source": [
    "filemfe53 = open(r\"ss53.txt\", \"r\")\n",
    "file_lines = filemfe53.read()\n",
    "\n",
    "\n",
    "\n",
    "mfe53 = file_lines.split(\"\\n\")"
   ]
  },
  {
   "cell_type": "code",
   "execution_count": 62,
   "metadata": {},
   "outputs": [],
   "source": [
    "filemfe54 = open(r\"ss54.txt\", \"r\")\n",
    "file_lines = filemfe54.read()\n",
    "\n",
    "\n",
    "\n",
    "mfe54 = file_lines.split(\"\\n\")"
   ]
  },
  {
   "cell_type": "code",
   "execution_count": 63,
   "metadata": {},
   "outputs": [],
   "source": [
    "filemfe55 = open(r\"ss55.txt\", \"r\")\n",
    "file_lines = filemfe55.read()\n",
    "\n",
    "\n",
    "\n",
    "mfe55 = file_lines.split(\"\\n\")"
   ]
  },
  {
   "cell_type": "code",
   "execution_count": 64,
   "metadata": {},
   "outputs": [],
   "source": [
    "filemfe56 = open(r\"ss56.txt\", \"r\")\n",
    "file_lines = filemfe56.read()\n",
    "\n",
    "\n",
    "\n",
    "mfe56 = file_lines.split(\"\\n\")"
   ]
  },
  {
   "cell_type": "code",
   "execution_count": 65,
   "metadata": {},
   "outputs": [],
   "source": [
    "filemfe57 = open(r\"ss57.txt\", \"r\")\n",
    "file_lines = filemfe57.read()\n",
    "\n",
    "\n",
    "\n",
    "mfe57 = file_lines.split(\"\\n\")"
   ]
  },
  {
   "cell_type": "code",
   "execution_count": 66,
   "metadata": {},
   "outputs": [],
   "source": [
    "filemfe58 = open(r\"ss58.txt\", \"r\")\n",
    "file_lines = filemfe58.read()\n",
    "\n",
    "\n",
    "\n",
    "mfe58 = file_lines.split(\"\\n\")"
   ]
  },
  {
   "cell_type": "code",
   "execution_count": 67,
   "metadata": {},
   "outputs": [],
   "source": [
    "filemfe6 = open(r\"ss6.txt\", \"r\")\n",
    "file_lines = filemfe6.read()\n",
    "\n",
    "\n",
    "\n",
    "mfe6 = file_lines.split(\"\\n\")"
   ]
  },
  {
   "cell_type": "code",
   "execution_count": 68,
   "metadata": {},
   "outputs": [],
   "source": [
    "filemfe71 = open(r\"ss71.txt\", \"r\")\n",
    "file_lines = filemfe71.read()\n",
    "\n",
    "\n",
    "\n",
    "mfe71 = file_lines.split(\"\\n\")"
   ]
  },
  {
   "cell_type": "code",
   "execution_count": 69,
   "metadata": {},
   "outputs": [],
   "source": [
    "filemfe72 = open(r\"ss72.txt\", \"r\")\n",
    "file_lines = filemfe72.read()\n",
    "\n",
    "\n",
    "\n",
    "mfe72 = file_lines.split(\"\\n\")"
   ]
  },
  {
   "cell_type": "code",
   "execution_count": 70,
   "metadata": {},
   "outputs": [],
   "source": [
    "filemfe73 = open(r\"ss73.txt\", \"r\")\n",
    "file_lines = filemfe73.read()\n",
    "\n",
    "\n",
    "\n",
    "mfe73 = file_lines.split(\"\\n\")"
   ]
  },
  {
   "cell_type": "code",
   "execution_count": 71,
   "metadata": {},
   "outputs": [],
   "source": [
    "filemfe74 = open(r\"ss74.txt\", \"r\")\n",
    "file_lines = filemfe74.read()\n",
    "\n",
    "\n",
    "\n",
    "mfe74 = file_lines.split(\"\\n\")"
   ]
  },
  {
   "cell_type": "code",
   "execution_count": 72,
   "metadata": {},
   "outputs": [],
   "source": [
    "filemfe75 = open(r\"ss75.txt\", \"r\")\n",
    "file_lines = filemfe75.read()\n",
    "\n",
    "\n",
    "\n",
    "mfe75 = file_lines.split(\"\\n\")"
   ]
  },
  {
   "cell_type": "code",
   "execution_count": 73,
   "metadata": {},
   "outputs": [],
   "source": [
    "filemfe76 = open(r\"ss76.txt\", \"r\")\n",
    "file_lines = filemfe76.read()\n",
    "\n",
    "\n",
    "\n",
    "mfe76 = file_lines.split(\"\\n\")"
   ]
  },
  {
   "cell_type": "code",
   "execution_count": 74,
   "metadata": {},
   "outputs": [],
   "source": [
    "filemfe77 = open(r\"ss77.txt\", \"r\")\n",
    "file_lines = filemfe77.read()\n",
    "\n",
    "\n",
    "\n",
    "mfe77 = file_lines.split(\"\\n\")"
   ]
  },
  {
   "cell_type": "code",
   "execution_count": 75,
   "metadata": {},
   "outputs": [],
   "source": [
    "filemfe78 = open(r\"ss78.txt\", \"r\")\n",
    "file_lines = filemfe78.read()\n",
    "\n",
    "\n",
    "\n",
    "mfe78 = file_lines.split(\"\\n\")"
   ]
  },
  {
   "cell_type": "code",
   "execution_count": 76,
   "metadata": {},
   "outputs": [],
   "source": [
    "ss_total=mfe1+mfe2+mfe3+mfe4+mfe51+mfe52+mfe53+mfe54+mfe55+mfe56+mfe57+mfe58+mfe6+mfe71+mfe72+mfe73+mfe74+mfe75+mfe76+mfe77+mfe78"
   ]
  },
  {
   "cell_type": "code",
   "execution_count": 77,
   "metadata": {},
   "outputs": [
    {
     "name": "stdout",
     "output_type": "stream",
     "text": [
      "12613\n"
     ]
    }
   ],
   "source": [
    "print(len(ss_total))"
   ]
  },
  {
   "cell_type": "code",
   "execution_count": 40,
   "metadata": {},
   "outputs": [
    {
     "name": "stdout",
     "output_type": "stream",
     "text": [
      "12593\n"
     ]
    }
   ],
   "source": [
    "print(len(temp1))"
   ]
  },
  {
   "cell_type": "code",
   "execution_count": 78,
   "metadata": {},
   "outputs": [],
   "source": [
    "SS=[]\n",
    "for i in range(0,len(ss_total)):\n",
    "    if ss_total[i]!='':\n",
    "        SS.append(ss_total[i])"
   ]
  },
  {
   "cell_type": "code",
   "execution_count": 79,
   "metadata": {},
   "outputs": [
    {
     "data": {
      "text/plain": [
       "12592"
      ]
     },
     "execution_count": 79,
     "metadata": {},
     "output_type": "execute_result"
    }
   ],
   "source": [
    "len(SS)"
   ]
  },
  {
   "cell_type": "code",
   "execution_count": 89,
   "metadata": {},
   "outputs": [
    {
     "ename": "IndexError",
     "evalue": "list index out of range",
     "output_type": "error",
     "traceback": [
      "\u001b[1;31m---------------------------------------------------------------------------\u001b[0m",
      "\u001b[1;31mIndexError\u001b[0m                                Traceback (most recent call last)",
      "\u001b[1;32m<ipython-input-89-09543f3003d6>\u001b[0m in \u001b[0;36m<module>\u001b[1;34m\u001b[0m\n\u001b[1;32m----> 1\u001b[1;33m \u001b[0mSS\u001b[0m\u001b[1;33m[\u001b[0m\u001b[1;36m12592\u001b[0m\u001b[1;33m]\u001b[0m\u001b[1;33m\u001b[0m\u001b[1;33m\u001b[0m\u001b[0m\n\u001b[0m",
      "\u001b[1;31mIndexError\u001b[0m: list index out of range"
     ]
    }
   ],
   "source": [
    "SS[12592]"
   ]
  },
  {
   "cell_type": "code",
   "execution_count": 81,
   "metadata": {},
   "outputs": [
    {
     "ename": "KeyboardInterrupt",
     "evalue": "",
     "output_type": "error",
     "traceback": [
      "\u001b[1;31m---------------------------------------------------------------------------\u001b[0m",
      "\u001b[1;31mKeyboardInterrupt\u001b[0m                         Traceback (most recent call last)",
      "\u001b[1;32m<ipython-input-81-24d4c33a0348>\u001b[0m in \u001b[0;36m<module>\u001b[1;34m\u001b[0m\n\u001b[0;32m      2\u001b[0m \u001b[1;32mwith\u001b[0m \u001b[0mopen\u001b[0m\u001b[1;33m(\u001b[0m\u001b[1;34m'SS.csv'\u001b[0m\u001b[1;33m,\u001b[0m \u001b[1;34m'w'\u001b[0m\u001b[1;33m)\u001b[0m \u001b[1;32mas\u001b[0m \u001b[0mf\u001b[0m\u001b[1;33m:\u001b[0m\u001b[1;33m\u001b[0m\u001b[1;33m\u001b[0m\u001b[0m\n\u001b[0;32m      3\u001b[0m     \u001b[0mwrite\u001b[0m \u001b[1;33m=\u001b[0m \u001b[0mcsv\u001b[0m\u001b[1;33m.\u001b[0m\u001b[0mwriter\u001b[0m\u001b[1;33m(\u001b[0m\u001b[0mf\u001b[0m\u001b[1;33m)\u001b[0m\u001b[1;33m\u001b[0m\u001b[1;33m\u001b[0m\u001b[0m\n\u001b[1;32m----> 4\u001b[1;33m     \u001b[0mwrite\u001b[0m\u001b[1;33m.\u001b[0m\u001b[0mwriterow\u001b[0m\u001b[1;33m(\u001b[0m\u001b[0mSS\u001b[0m\u001b[1;33m)\u001b[0m\u001b[1;33m\u001b[0m\u001b[1;33m\u001b[0m\u001b[0m\n\u001b[0m",
      "\u001b[1;32m~\\Anaconda3\\lib\\encodings\\cp1252.py\u001b[0m in \u001b[0;36mencode\u001b[1;34m(self, input, final)\u001b[0m\n\u001b[0;32m     17\u001b[0m \u001b[1;32mclass\u001b[0m \u001b[0mIncrementalEncoder\u001b[0m\u001b[1;33m(\u001b[0m\u001b[0mcodecs\u001b[0m\u001b[1;33m.\u001b[0m\u001b[0mIncrementalEncoder\u001b[0m\u001b[1;33m)\u001b[0m\u001b[1;33m:\u001b[0m\u001b[1;33m\u001b[0m\u001b[1;33m\u001b[0m\u001b[0m\n\u001b[0;32m     18\u001b[0m     \u001b[1;32mdef\u001b[0m \u001b[0mencode\u001b[0m\u001b[1;33m(\u001b[0m\u001b[0mself\u001b[0m\u001b[1;33m,\u001b[0m \u001b[0minput\u001b[0m\u001b[1;33m,\u001b[0m \u001b[0mfinal\u001b[0m\u001b[1;33m=\u001b[0m\u001b[1;32mFalse\u001b[0m\u001b[1;33m)\u001b[0m\u001b[1;33m:\u001b[0m\u001b[1;33m\u001b[0m\u001b[1;33m\u001b[0m\u001b[0m\n\u001b[1;32m---> 19\u001b[1;33m         \u001b[1;32mreturn\u001b[0m \u001b[0mcodecs\u001b[0m\u001b[1;33m.\u001b[0m\u001b[0mcharmap_encode\u001b[0m\u001b[1;33m(\u001b[0m\u001b[0minput\u001b[0m\u001b[1;33m,\u001b[0m\u001b[0mself\u001b[0m\u001b[1;33m.\u001b[0m\u001b[0merrors\u001b[0m\u001b[1;33m,\u001b[0m\u001b[0mencoding_table\u001b[0m\u001b[1;33m)\u001b[0m\u001b[1;33m[\u001b[0m\u001b[1;36m0\u001b[0m\u001b[1;33m]\u001b[0m\u001b[1;33m\u001b[0m\u001b[1;33m\u001b[0m\u001b[0m\n\u001b[0m\u001b[0;32m     20\u001b[0m \u001b[1;33m\u001b[0m\u001b[0m\n\u001b[0;32m     21\u001b[0m \u001b[1;32mclass\u001b[0m \u001b[0mIncrementalDecoder\u001b[0m\u001b[1;33m(\u001b[0m\u001b[0mcodecs\u001b[0m\u001b[1;33m.\u001b[0m\u001b[0mIncrementalDecoder\u001b[0m\u001b[1;33m)\u001b[0m\u001b[1;33m:\u001b[0m\u001b[1;33m\u001b[0m\u001b[1;33m\u001b[0m\u001b[0m\n",
      "\u001b[1;31mKeyboardInterrupt\u001b[0m: "
     ]
    }
   ],
   "source": [
    "import csv\n",
    "with open('SS.csv', 'w') as f: \n",
    "    write = csv.writer(f) \n",
    "    write.writerow(SS) "
   ]
  },
  {
   "cell_type": "code",
   "execution_count": 82,
   "metadata": {},
   "outputs": [],
   "source": [
    "textfile = open(\"SSsrtucfile.txt\", \"w\")\n",
    "for element in SS:\n",
    "    textfile.write(element + \"\\n\")\n",
    "textfile.close()"
   ]
  },
  {
   "cell_type": "code",
   "execution_count": 83,
   "metadata": {},
   "outputs": [],
   "source": [
    "file2 = open(r\"SSsrtucfile.txt\", \"r\")\n",
    "file_lines = file2.read()\n",
    "\n",
    "\n",
    "\n",
    "ss1 = file_lines.split(\"\\n\")"
   ]
  },
  {
   "cell_type": "code",
   "execution_count": 85,
   "metadata": {},
   "outputs": [],
   "source": [
    "# loc=[]\n",
    "# for i in range(0,len(ss1)):\n",
    "#     x1=ss1[i].find('.')\n",
    "#     x2=ss1[i].find('(')\n",
    "#     x3=ss1[i].find(')')\n",
    "#     lst=[x1,x2,x3]\n",
    "#     y=min(lst)\n",
    "#     x4=ss1[i].find(' ')\n",
    "#     loc.append([y,x4])\n",
    "    \n",
    "# db=[]\n",
    "# for i in range(0,len(ss1)):\n",
    "#     r1=ss1[i][loc[i][0]:loc[i][1]]\n",
    "#     db.append(r1)\n",
    "         \n",
    "puseq=ss1\n",
    "\n",
    "u2=[]\n",
    "for i in range(0,len(puseq)):\n",
    "    u1=list(puseq[i])\n",
    "    for j in range(0,len(puseq[i])):\n",
    "        if u1[j]=='.':\n",
    "            u1[j]='U'\n",
    "        if u1[j]==')' or u1[j]=='(':\n",
    "            u1[j]='P'\n",
    "    u3=''.join(u1)\n",
    "    u2.append(u3)\n",
    "    \n",
    "    \n",
    "\n",
    "            "
   ]
  },
  {
   "cell_type": "code",
   "execution_count": 86,
   "metadata": {},
   "outputs": [],
   "source": [
    "y=[]\n",
    "for i in range(0,len(u2)):\n",
    "    y.append(len(u2[i]))"
   ]
  },
  {
   "cell_type": "code",
   "execution_count": 87,
   "metadata": {},
   "outputs": [
    {
     "name": "stdout",
     "output_type": "stream",
     "text": [
      "12592\n"
     ]
    }
   ],
   "source": [
    "for i in range(0,len(y)):\n",
    "    if y[i]==0:\n",
    "        print(i)"
   ]
  },
  {
   "cell_type": "code",
   "execution_count": 90,
   "metadata": {},
   "outputs": [
    {
     "data": {
      "text/plain": [
       "12593"
      ]
     },
     "execution_count": 90,
     "metadata": {},
     "output_type": "execute_result"
    }
   ],
   "source": [
    "len(y)"
   ]
  },
  {
   "cell_type": "code",
   "execution_count": 91,
   "metadata": {},
   "outputs": [],
   "source": [
    "# paired-unpaired 'UP' frequency\n",
    "flag_UP=[]\n",
    "for i in range(0,len(u2)-1):\n",
    "    flagu=0\n",
    "    for j in range(0,len(u2[i])-1):\n",
    "        #g=j+1\n",
    "        if u2[i][j]=='U' and u2[i][j+1]=='P': #and g!=len(u2[i])-1:\n",
    "            flagu=flagu+1\n",
    "    flag_UP.append(flagu/len(u2[i]))"
   ]
  },
  {
   "cell_type": "code",
   "execution_count": 97,
   "metadata": {},
   "outputs": [
    {
     "data": {
      "text/plain": [
       "12592"
      ]
     },
     "execution_count": 97,
     "metadata": {},
     "output_type": "execute_result"
    }
   ],
   "source": [
    "rnaseq1=temp1[0:len(temp1)-1]\n",
    "len(rnaseq1)"
   ]
  },
  {
   "cell_type": "code",
   "execution_count": 100,
   "metadata": {},
   "outputs": [
    {
     "data": {
      "text/plain": [
       "12592"
      ]
     },
     "execution_count": 100,
     "metadata": {},
     "output_type": "execute_result"
    }
   ],
   "source": [
    "u21=u2[0:len(u2)-1]\n",
    "len(u21)"
   ]
  },
  {
   "cell_type": "code",
   "execution_count": 94,
   "metadata": {},
   "outputs": [],
   "source": [
    "#import csv\n",
    "with open('UpFreq.csv', 'w') as f: \n",
    "    write = csv.writer(f) \n",
    "    write.writerow(flag_UP) "
   ]
  },
  {
   "cell_type": "code",
   "execution_count": 101,
   "metadata": {},
   "outputs": [],
   "source": [
    "#getting acgu-ACGU sequence\n",
    "newseq=rnaseq1\n",
    "newseq1=[]\n",
    "for i in range(0,len(rnaseq1)):\n",
    "    new=list(newseq[i])\n",
    "    for j in range(0,len(rnaseq1[i])):\n",
    "        if rnaseq1[i][j]=='a' and u21[i][j]=='P':\n",
    "            new[j]='A'\n",
    "        \n",
    "        if rnaseq1[i][j]=='g' and u21[i][j]=='P':\n",
    "            new[j]='G'\n",
    "            \n",
    "        if rnaseq1[i][j]=='c' and u21[i][j]=='P':\n",
    "            new[j]='C'\n",
    "            \n",
    "        if rnaseq1[i][j]=='u' and u21[i][j]=='P':\n",
    "            new[j]='U'\n",
    "            \n",
    "        if u21[i][j]=='U':\n",
    "            new[j]=rnaseq1[i][j]\n",
    "            \n",
    "    w=''.join(new)\n",
    "    newseq1.append(w)"
   ]
  },
  {
   "cell_type": "code",
   "execution_count": 102,
   "metadata": {},
   "outputs": [],
   "source": [
    "#getting acguD sequence\n",
    "newseq=rnaseq1\n",
    "newseq2=[]\n",
    "for i in range(0,len(rnaseq1)):\n",
    "    new=list(newseq[i])\n",
    "    for j in range(0,len(rnaseq1[i])):\n",
    "        if u21[i][j]=='U':\n",
    "            new[j]='D'\n",
    "            \n",
    "        if u21[i][j]=='P':\n",
    "            new[j]=rnaseq1[i][j]\n",
    "            \n",
    "    w=''.join(new)\n",
    "    newseq2.append(w)"
   ]
  },
  {
   "cell_type": "code",
   "execution_count": 104,
   "metadata": {},
   "outputs": [
    {
     "data": {
      "text/plain": [
       "'DDgcacDDggcDDccDDgcguuDDDDDDDDagcguDDggDDgccDDDDDDDgugcDDucugcDDDgcagaDDDDDDDDDDDgacDDDDgucDuuugucccDucgcDDDcuuccccucaagcDDagggcDDDgcuguccgccDDDDDDggcDDDDDDgggcagcDDDDgcDDggggugDgccccggggcDggDDDDccDgcccDcgDDDDgggcDcgccccDgcDDDDDDgcccuDDgDcuugaDDcgcDDDDDDgcgDDDDDDDDccuDDDugaccuuguDuuuDDcucugugggcDDcucDDDDDugaDDDDcuuagDDDDDDDDDDDDDuuaagDDDucaDDDgagDDgccDDDcgcaaaacuDDDgauDucDDDDgagucDaguuuugugDDDugDcuaDDDuagDcaDDDDDcacagagDDagaDgcagDggucgDDaggDDDggggaagcaaggDggaguugggcDgcucDuDuucDDugguuuDguccgccuucDcugcDuccucuucugggggDguuaDaDDDDDDuDuaacDDDDDDDDgccacDDDDDcgcugDDDDcagcgDgugguDcccDDDccagagDgaggaDgcDDagDgaagguggDDDDDDgcaaaccaDgaaDagagcccuDDDDgggDDDDDguccagcuDccDccuugDDcuuggDDDDccaagDDDDDDDDDDDgugagggauaaaDDDDD'"
      ]
     },
     "execution_count": 104,
     "metadata": {},
     "output_type": "execute_result"
    }
   ],
   "source": [
    "newseq2[0]"
   ]
  },
  {
   "cell_type": "code",
   "execution_count": 105,
   "metadata": {},
   "outputs": [],
   "source": [
    "textfile = open(\"acguACGU.txt\", \"w\")\n",
    "for element in newseq1:\n",
    "    textfile.write(element + \"\\n\")\n",
    "textfile.close()"
   ]
  },
  {
   "cell_type": "code",
   "execution_count": 106,
   "metadata": {},
   "outputs": [],
   "source": [
    "textfile = open(\"acguD.txt\", \"w\")\n",
    "for element in newseq2:\n",
    "    textfile.write(element + \"\\n\")\n",
    "textfile.close()"
   ]
  },
  {
   "cell_type": "code",
   "execution_count": null,
   "metadata": {},
   "outputs": [],
   "source": []
  }
 ],
 "metadata": {
  "kernelspec": {
   "display_name": "Python 3",
   "language": "python",
   "name": "python3"
  },
  "language_info": {
   "codemirror_mode": {
    "name": "ipython",
    "version": 3
   },
   "file_extension": ".py",
   "mimetype": "text/x-python",
   "name": "python",
   "nbconvert_exporter": "python",
   "pygments_lexer": "ipython3",
   "version": "3.7.4"
  }
 },
 "nbformat": 4,
 "nbformat_minor": 2
}
