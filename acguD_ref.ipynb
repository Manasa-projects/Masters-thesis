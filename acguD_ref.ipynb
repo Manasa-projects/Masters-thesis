{
 "cells": [
  {
   "cell_type": "code",
   "execution_count": null,
   "metadata": {},
   "outputs": [],
   "source": [
    "file2 = open(r\"lnc1refacguD.txt\", \"r\")\n",
    "file_lines = file2.read()\n",
    "\n",
    "\n",
    "\n",
    "sdash = file_lines.split(\"\\n\")"
   ]
  },
  {
   "cell_type": "code",
   "execution_count": null,
   "metadata": {},
   "outputs": [],
   "source": [
    "sactualdash=[]\n",
    "for i in range(0,len(sdash)):\n",
    "    if sdash[i]!='':\n",
    "        sactualdash.append(sdash[i])"
   ]
  },
  {
   "cell_type": "code",
   "execution_count": null,
   "metadata": {},
   "outputs": [],
   "source": [
    "e1=sactualdash[0]\n",
    "import ast\n",
    "e1 = ast.literal_eval(e1)"
   ]
  },
  {
   "cell_type": "code",
   "execution_count": null,
   "metadata": {},
   "outputs": [],
   "source": [
    "\n",
    "xydash=e1\n",
    "#xnew=e1\n",
    "for i in range(0,len(sactualdash)):\n",
    "    x = ast.literal_eval(sactualdash[i])\n",
    "    for j in range(0,len(e1)):\n",
    "        if i==0:\n",
    "            xydash[j][1]=e1[j][1]\n",
    "        else:\n",
    "            xnew=xydash[j][1]+x[j][1]\n",
    "            xydash[j][1]=xnew\n",
    "            \n",
    "        \n",
    "    \n",
    "    \n",
    "\n",
    "    \n",
    "    "
   ]
  },
  {
   "cell_type": "code",
   "execution_count": null,
   "metadata": {},
   "outputs": [],
   "source": [
    "# xydash2=xydash\n",
    "# for j in range(0,len(xydash[0])):\n",
    "#     k=0\n",
    "#     for i in range(0,len(xydash)):\n",
    "#         k=k+xydash[i][j][1]\n",
    "#     xydash2[j][1]=k"
   ]
  },
  {
   "cell_type": "code",
   "execution_count": null,
   "metadata": {},
   "outputs": [],
   "source": [
    "with open('pctreftotalacguD.txt', 'w') as f:\n",
    "    for item in xydash:\n",
    "        f.write(\"%s\\n\" % item)"
   ]
  }
 ],
 "metadata": {
  "kernelspec": {
   "display_name": "Python 3 (ipykernel)",
   "language": "python",
   "name": "python3"
  },
  "language_info": {
   "codemirror_mode": {
    "name": "ipython",
    "version": 3
   },
   "file_extension": ".py",
   "mimetype": "text/x-python",
   "name": "python",
   "nbconvert_exporter": "python",
   "pygments_lexer": "ipython3",
   "version": "3.7.11"
  }
 },
 "nbformat": 4,
 "nbformat_minor": 2
}
