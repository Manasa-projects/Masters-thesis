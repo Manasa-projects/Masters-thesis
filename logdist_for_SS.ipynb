{
 "cells": [
  {
   "cell_type": "code",
   "execution_count": 1,
   "metadata": {},
   "outputs": [],
   "source": [
    "file2 = open(r\"acguACGU.txt\", \"r\")\n",
    "file_lines = file2.read()\n",
    "\n",
    "\n",
    "\n",
    "ACGUseq = file_lines.split(\"\\n\")"
   ]
  },
  {
   "cell_type": "code",
   "execution_count": 2,
   "metadata": {},
   "outputs": [],
   "source": [
    "ACGUseq=ACGUseq[0:len(ACGUseq)-1]"
   ]
  },
  {
   "cell_type": "code",
   "execution_count": 4,
   "metadata": {},
   "outputs": [],
   "source": [
    "file2 = open(r\"acguD.txt\", \"r\")\n",
    "file_lines = file2.read()\n",
    "\n",
    "\n",
    "\n",
    "acguDseq = file_lines.split(\"\\n\")"
   ]
  },
  {
   "cell_type": "code",
   "execution_count": 5,
   "metadata": {},
   "outputs": [],
   "source": [
    "acguDseq=acguDseq[0:len(acguDseq)-1]\n"
   ]
  },
  {
   "cell_type": "code",
   "execution_count": 8,
   "metadata": {},
   "outputs": [],
   "source": [
    "lnc1=acguDseq[0:4062]\n",
    "lnc11=acguDseq[0:501]\n",
    "lnc12=acguDseq[501:1001]\n",
    "lnc13=acguDseq[1001:1501]\n",
    "lnc14=acguDseq[1501:2001]\n",
    "lnc15=acguDseq[2001:2501]\n",
    "lnc16=acguDseq[2501:3001]\n",
    "lnc17=acguDseq[3001:3501]\n",
    "lnc18=acguDseq[3501:4062]\n",
    "\n",
    "\n",
    "pct1=acguDseq[4062:8144]\n",
    "pct11=pct1[0:501]\n",
    "pct12=pct1[501:1001]\n",
    "pct13=pct1[1001:1501]\n",
    "pct14=pct1[1501:2001]\n",
    "pct15=pct1[2001:2501]\n",
    "pct16=pct1[2501:3001]\n",
    "pct17=pct1[3001:3501]\n",
    "pct18=pct1[3501:4082]\n",
    "\n",
    "lnc1ref=acguDseq[8144:10347]\n",
    "pct1ref=acguDseq[10347:12592]"
   ]
  },
  {
   "cell_type": "code",
   "execution_count": 9,
   "metadata": {},
   "outputs": [],
   "source": [
    "lnc2=ACGUseq[0:4062]\n",
    "lnc21=ACGUseq[0:501]\n",
    "lnc22=ACGUseq[501:1001]\n",
    "lnc23=ACGUseq[1001:1501]\n",
    "lnc24=ACGUseq[1501:2001]\n",
    "lnc25=ACGUseq[2001:2501]\n",
    "lnc26=ACGUseq[2501:3001]\n",
    "lnc27=ACGUseq[3001:3501]\n",
    "lnc28=ACGUseq[3501:4062]\n",
    "\n",
    "\n",
    "\n",
    "\n",
    "pct2=ACGUseq[4062:8144]\n",
    "pct21=pct2[0:501]\n",
    "pct22=pct2[501:1001]\n",
    "pct23=pct2[1001:1501]\n",
    "pct24=pct2[1501:2001]\n",
    "pct25=pct2[2001:2501]\n",
    "pct26=pct2[2501:3001]\n",
    "pct27=pct2[3001:3501]\n",
    "pct28=pct2[3501:4082]\n",
    "\n",
    "lnc2ref=ACGUseq[8144:10347]\n",
    "lnc21=lnc2ref[0:501]\n",
    "lnc22=lnc2ref[501:1001]\n",
    "lnc23=lnc2ref[1001:1501]\n",
    "lnc24=lnc2ref[1501:2001]\n",
    "lnc25=lnc2ref[2001:2203]\n",
    "\n",
    "pct2ref=ACGUseq[10347:12592]\n",
    "pct21=pct2ref[0:501]\n",
    "pct22=pct2ref[501:1001]\n",
    "pct23=pct2ref[1001:1501]\n",
    "pct24=pct2ref[1501:2001]\n",
    "pct25=pct2ref[2001:2245]"
   ]
  },
  {
   "cell_type": "code",
   "execution_count": 18,
   "metadata": {},
   "outputs": [
    {
     "data": {
      "text/plain": [
       "12592"
      ]
     },
     "execution_count": 18,
     "metadata": {},
     "output_type": "execute_result"
    }
   ],
   "source": [
    "#len(acguDseq)"
   ]
  },
  {
   "cell_type": "code",
   "execution_count": 10,
   "metadata": {},
   "outputs": [],
   "source": [
    "#finding permutations for string acguACGU for a hexamer\n",
    "from itertools import product\n",
    "strg1='acguD'\n",
    "allcomb=list(product(list(strg1),repeat=6))\n",
    "\n",
    "\n",
    "#allcomb elements are a tuple,so convert to string\n",
    "def convertTuple(tup):\n",
    "    strg=''\n",
    "    for item in tup:\n",
    "        strg=strg+item\n",
    "    return strg\n",
    "\n",
    "allcombstr=''\n",
    "allcomblist=[]\n",
    "for i in range(0,len(allcomb)):\n",
    "    allcombstr=convertTuple(allcomb[i])\n",
    "    allcomblist.append(allcombstr)\n",
    "    \n",
    "\n",
    "\n",
    "#function to count the frequency of hexamers\n",
    "def freqcount(seqq,window,step):\n",
    "    allcombfreq=[]\n",
    "    for i in range(0,len(allcomblist)):\n",
    "        allcombfreq.append([allcomblist[i],0])\n",
    "    \n",
    "    for i in range(0,len(seqq)-window,step):\n",
    "        u1=seqq[i:i+6]\n",
    "        flagi=0\n",
    "        for j in range(0,len(allcomblist)):\n",
    "            if u1==allcomblist[j]:\n",
    "                flagi=flagi+1\n",
    "       \n",
    "        allcombfreq[allcomblist.index(u1)][1]=flagi\n",
    "        \n",
    "        \n",
    "            \n",
    "    return allcombfreq        "
   ]
  },
  {
   "cell_type": "code",
   "execution_count": 11,
   "metadata": {},
   "outputs": [],
   "source": [
    "#finding frequencies for all lnc+pct sequences\n",
    "freqmatrix=[]\n",
    "finalfreqmatrix=[]\n",
    "for i in range(0,len(pct13)):\n",
    "    #freqmatrix[i]=freqcount(orf_list[i],6,3)\n",
    "    finalfreqmatrix.append(freqcount(pct13[i],6,1))"
   ]
  },
  {
   "cell_type": "code",
   "execution_count": 12,
   "metadata": {},
   "outputs": [],
   "source": [
    "#calculating frequency for seqs\n",
    "finalfreqmatrix2=finalfreqmatrix\n",
    "\n",
    "for i in range(0,len(finalfreqmatrix)):\n",
    "    k=0\n",
    "    #print(i)\n",
    "    for j in range(0,len(finalfreqmatrix[i])):\n",
    "        k=k+finalfreqmatrix[i][j][1]\n",
    "    #print(k)\n",
    "    for m in range(0,len(finalfreqmatrix[i])):\n",
    "        #print(i)\n",
    "        value2=finalfreqmatrix[i][m][1]/k\n",
    "        finalfreqmatrix2[i][m][1]=value2"
   ]
  },
  {
   "cell_type": "code",
   "execution_count": null,
   "metadata": {},
   "outputs": [],
   "source": [
    "with open('pct13acguD.txt', 'w') as f:\n",
    "    for item in finalfreqmatrix2:\n",
    "        f.write(\"%s\\n\" % item)"
   ]
  },
  {
   "cell_type": "code",
   "execution_count": null,
   "metadata": {},
   "outputs": [],
   "source": []
  }
 ],
 "metadata": {
  "kernelspec": {
   "display_name": "Python 3 (ipykernel)",
   "language": "python",
   "name": "python3"
  },
  "language_info": {
   "codemirror_mode": {
    "name": "ipython",
    "version": 3
   },
   "file_extension": ".py",
   "mimetype": "text/x-python",
   "name": "python",
   "nbconvert_exporter": "python",
   "pygments_lexer": "ipython3",
   "version": "3.7.11"
  }
 },
 "nbformat": 4,
 "nbformat_minor": 2
}
